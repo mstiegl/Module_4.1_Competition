{
 "cells": [
  {
   "cell_type": "markdown",
   "metadata": {
    "collapsed": true
   },
   "source": [
    "Module 4.1: Competition"
   ]
  },
  {
   "cell_type": "markdown",
   "metadata": {},
   "source": [
    "Whitetip Sharks Competing with Blacktip Sharks for food"
   ]
  },
  {
   "cell_type": "markdown",
   "metadata": {},
   "source": [
    "Whitetip sharks (WTS) and blacktip sharks (BTS)  might feed on the same kinds of fish in a year when the fish supply is low. \n",
    "We anticipate that a large increase in one species, such as BTS, might have a detrimental effect on the ability of the other \n",
    "species, such as WTS, to obtain an adequate amount of food and, therefore, to thrive. Also, we expect that superior hunting \n",
    "skills of one species would diminish the food supply for the \n",
    "other species. As one species grows, the other shrinks."
   ]
  },
  {
   "cell_type": "markdown",
   "metadata": {},
   "source": [
    "A competing species has a negative impact on the rate of changeof a population. In this situation, we can model the number ofdeaths of each species as being proportional to its populationsize and the population size of the other species. Thus, for Bbeing the population of BTS and W the population of WTS, the \n",
    "number of deaths of each species is proportional to the productBW. The constant of proportionality associated with this proportionality for one species reflects competitive skills of the \n",
    "other species. \n",
    "Consequently, we have the following equations for the change inthe number of deaths of each species: \n",
    "∆(deaths of WTS) = wBW, where w is a WTS death proportionality constant\n",
    "∆(deaths of BTS) = bWB, where b is a BTS death proportionality constant"
   ]
  },
  {
   "cell_type": "markdown",
   "metadata": {},
   "source": [
    "Before starting to write an algoritm ,let's list some \n",
    "parameters and some equations: \n",
    "\n",
    "unit of time being 1 month \n",
    "\n",
    "BTS_population(0) = 15  (initial BTS population)\n",
    "\n",
    "BTS_birth_fraction = 1 \n",
    "\n",
    "BTS_births = BTS_birth_fraction * BTS_population \n",
    "\n",
    "WTS_population(0) = 20  (initial WTS population)\n",
    "\n",
    "WTS_birth_fraction = 1 \n",
    "\n",
    "WTS_births = (WTS_population * WTS_birth_fraction)\n",
    "\n",
    "BTS_death_proportionality_constant = 0.20 \n",
    "\n",
    "BTS_deaths = (BTS_death_proportionality_constant) * (WTS_population * BTS_population)\n",
    "\n",
    "WTS_death_proportionality_constant = 0.27 \n",
    "\n",
    "WTS_deaths=(WTS_death_proportionality_constant) * (BTS_population * WTS_population)\n",
    "\n",
    "Simulation Length = 5 months\n",
    "\n",
    "Δt=0.001"
   ]
  },
  {
   "cell_type": "markdown",
   "metadata": {},
   "source": [
    "Both BTS and WTS populations are increasing with births and decreasing with deaths. \n",
    "\n",
    "We can express this change mathematically:\n",
    "\n",
    "ΔBTS_population = (BTS_births - BTS_deaths) * Δt\n",
    "\n",
    "ΔWTS_population = (WTS_births - WTS_deaths) * Δt\n"
   ]
  },
  {
   "cell_type": "markdown",
   "metadata": {},
   "source": [
    "Now let's start writing our code. "
   ]
  },
  {
   "cell_type": "markdown",
   "metadata": {},
   "source": [
    "To plot the results, first we need to import the mathplot \n",
    "library"
   ]
  },
  {
   "cell_type": "code",
   "execution_count": 7,
   "metadata": {},
   "outputs": [],
   "source": [
    "import matplotlib.pyplot as plt\n",
    "#%matplotlib inline\n",
    "BTS_population= 15\n",
    "BTS_birth_fraction = 1\n",
    "BTS_births = BTS_birth_fraction * BTS_population\n",
    "BTS_death_proportionality_constant = 0.20\n",
    "WTS_population= 20\n",
    "BTS_deaths = (BTS_death_proportionality_constant*WTS_population)*BTS_population\n",
    "WTS_birth_fraction = 1\n",
    "WTS_births = WTS_population * WTS_birth_fraction\n",
    "WTS_death_proportionality_constant = 0.27\n",
    "WTS_deaths=WTS_death_proportionality_constant * BTS_population*WTS_population\n",
    "t=0\n",
    "dt=0.001\n",
    "simLength=5   # Simulation for 5 months\n",
    "numiterations=int(simLength/dt)+1"
   ]
  },
  {
   "cell_type": "markdown",
   "metadata": {},
   "source": [
    "We prefer to store time, BTS and WTS populations in separate \n",
    "lists. It is convenient to plot the variables that are stored \n",
    "in the lists. \n",
    "Let's declare three lists with a single element to store time, BTS and WTS populations. These three lists have only one \n",
    "element, which is the initial value of the variable. \n",
    "Later on, we will generate new values and append them to the \n",
    "existing lists. "
   ]
  },
  {
   "cell_type": "code",
   "execution_count": 8,
   "metadata": {},
   "outputs": [],
   "source": [
    "time=[t]\n",
    "BTSLst=[BTS_population]\n",
    "WTSLst=[WTS_population]"
   ]
  },
  {
   "cell_type": "code",
   "execution_count": 9,
   "metadata": {},
   "outputs": [],
   "source": [
    "for i in range(1,numiterations):\n",
    "    t=i*dt\n",
    "    BTS_population=BTS_population+BTS_births*dt-BTS_deaths*dt\n",
    "    WTS_population=WTS_population+WTS_births*dt-WTS_deaths*dt\n",
    "    time.append(t)\n",
    "    BTSLst.append(BTS_population)\n",
    "    WTSLst.append(WTS_population)\n",
    "    BTS_births = BTS_birth_fraction * BTS_population\n",
    "    BTS_deaths = (BTS_death_proportionality_constant * WTS_population) * BTS_population\n",
    "\n",
    "    WTS_births = WTS_population * WTS_birth_fraction\n",
    "    WTS_deaths = (WTS_death_proportionality_constant * BTS_population) * WTS_population\n"
   ]
  },
  {
   "cell_type": "markdown",
   "metadata": {},
   "source": [
    "Printing out the population changes in every month during the simulation time \n",
    "(5 months)"
   ]
  },
  {
   "cell_type": "code",
   "execution_count": 10,
   "metadata": {},
   "outputs": [
    {
     "name": "stdout",
     "output_type": "stream",
     "text": [
      "Time(month)\tWTS\tBTS\n",
      "\n",
      "\n",
      "1.000\t 6.57\t 5.37\n",
      "\n",
      "2.000\t 4.69\t 4.84\n",
      "\n",
      "3.000\t 3.08\t 6.00\n",
      "\n",
      "4.000\t 0.99\t10.83\n",
      "\n",
      "5.000\t 0.02\t27.43\n",
      "\n"
     ]
    }
   ],
   "source": [
    "print('Time(month)\\tWTS\\tBTS\\n\\n')\n",
    "for i in range(1,6):\n",
    "\n",
    "        print('%5.3f\\t%5.2f\\t%5.2f\\n' % (time[i*1000], WTSLst[i*1000], BTSLst[i*1000]))\n"
   ]
  },
  {
   "cell_type": "markdown",
   "metadata": {},
   "source": [
    "Plotting the data"
   ]
  },
  {
   "cell_type": "code",
   "execution_count": 11,
   "metadata": {},
   "outputs": [
    {
     "data": {
      "image/png": "[encoded data removed]",
      "text/plain": [
       "<matplotlib.figure.Figure at 0x10b07e1d0>"
      ]
     },
     "metadata": {},
     "output_type": "display_data"
    }
   ],
   "source": [
    "plt.plot(time,BTSLst, color='red')\n",
    "plt.text(4,10,'BTS', color='red')\n",
    "plt.plot(time,WTSLst,color='blue')\n",
    "plt.text(1,7,'WTS',color='blue')\n",
    "plt.xlabel('Time (months)')\n",
    "plt.ylabel('Population')\n",
    "plt.title('Competition between Whitetip Sharks (WTS) and Blacktip Sharks (BTS)')\n",
    "plt.show()"
   ]
  },
  {
   "cell_type": "markdown",
   "metadata": {},
   "source": [
    "Writing the data on a file"
   ]
  },
  {
   "cell_type": "code",
   "execution_count": 12,
   "metadata": {},
   "outputs": [],
   "source": [
    "outfile = open(\"sharkcompetition.dat\", 'w')\n",
    "for i in range(numiterations):\n",
    "    outfile.write(\"%6.3f\\t%12.2f\\t%12.2f\\n\" % (time[i], WTSLst[i], BTSLst[i]))\n",
    "outfile.close()\n"
   ]
  }
 ],
 "metadata": {
  "kernelspec": {
   "display_name": "Python 3",
   "language": "python",
   "name": "python3"
  },
  "language_info": {
   "codemirror_mode": {
    "name": "ipython",
    "version": 3
   },
   "file_extension": ".py",
   "mimetype": "text/x-python",
   "name": "python",
   "nbconvert_exporter": "python",
   "pygments_lexer": "ipython3",
   "version": "3.6.4"
  }
 },
 "nbformat": 4,
 "nbformat_minor": 1
}
